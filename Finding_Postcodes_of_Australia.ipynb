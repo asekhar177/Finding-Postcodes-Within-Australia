{
 "cells": [
  {
   "cell_type": "markdown",
   "id": "c22f602d-06c1-4fc8-a671-c0bec8851c66",
   "metadata": {},
   "source": [
    "## Finding Postcodes of Australia"
   ]
  },
  {
   "cell_type": "markdown",
   "id": "0eaec5a3-1176-4a83-baf4-2c19d86e6631",
   "metadata": {},
   "source": [
    "If you ever struggle to find postcodes within striking distance of where you are, here is a simple tool everyone can use in order to locate geographically where any postcode is. Note that some of thes reflect Australia Post Boxes (what they call as 'PO Box'), so even they have been captured here as well."
   ]
  },
  {
   "cell_type": "markdown",
   "id": "2fb564bf-fe9e-4a22-9332-908811d2bd6f",
   "metadata": {},
   "source": [
    "### **1. Import Packages**"
   ]
  },
  {
   "cell_type": "markdown",
   "id": "a0abb69e-4028-4f7c-97d0-87048d688ec8",
   "metadata": {},
   "source": [
    "The main packages you need for this exercise are *pandas* and *geopy*. If you do find other useful packages to uplift this, please advise."
   ]
  },
  {
   "cell_type": "code",
   "execution_count": 86,
   "id": "205572d0-87ae-4486-8313-246294687d85",
   "metadata": {},
   "outputs": [],
   "source": [
    "import pandas as pd\n",
    "from geopy.distance import geodesic"
   ]
  },
  {
   "cell_type": "markdown",
   "id": "b4ea111d-c284-4a22-a99a-f8cf29119758",
   "metadata": {},
   "source": [
    "### **2. Load Postcode dataset**"
   ]
  },
  {
   "cell_type": "markdown",
   "id": "c5725dc6-e912-407f-800a-212e92ecd4f1",
   "metadata": {},
   "source": [
    "Included is a dataset with all of the Australian Postcodes with the Locality Name, State, Longitude and Latitude (the latters have been abbreviated as 'long' and 'lat' respectively). Please note that this is an exhaustive list of postcodes in Australia that have existed since 1967, which was also when Postcodes were introduced in Australia. "
   ]
  },
  {
   "cell_type": "code",
   "execution_count": 88,
   "id": "a244ceea-d2d2-4c0e-bcc1-13ede01dd578",
   "metadata": {},
   "outputs": [
    {
     "name": "stdout",
     "output_type": "stream",
     "text": [
      "       postcode                        locality state        long        lat\n",
      "0           200                             ANU   ACT  149.119000 -35.277700\n",
      "1           200  Australian National University   ACT  149.118900 -35.277700\n",
      "2           800                          DARWIN    NT  130.836680 -12.458684\n",
      "3           800                     DARWIN CITY    NT  130.836680 -12.458684\n",
      "4           801                          DARWIN    NT  130.836680 -12.458684\n",
      "...         ...                             ...   ...         ...        ...\n",
      "18521      9013                        BRISBANE   QLD  152.823141 -27.603479\n",
      "18522      9015                        BRISBANE   QLD  152.823141 -27.603479\n",
      "18523      9464                    NORTHGATE MC   QLD  153.074982 -27.397055\n",
      "18524      9726                   GOLD COAST MC   QLD  153.412197 -28.008783\n",
      "18525      9999                      NORTH POLE   VIC  144.956776 -37.817403\n",
      "\n",
      "[18526 rows x 5 columns]\n"
     ]
    }
   ],
   "source": [
    "df = pd.read_csv('australian_postcodes_with_latlon.csv')\n",
    "print(df)"
   ]
  },
  {
   "cell_type": "markdown",
   "id": "90d703e9-1248-4971-8b31-bd11d047c24b",
   "metadata": {},
   "source": [
    "### **3. Identify the Latitude and Longitude of the Australian City Centres**"
   ]
  },
  {
   "cell_type": "markdown",
   "id": "b98a4ddc-d941-45d2-bed8-78b1391a5956",
   "metadata": {},
   "source": [
    "The dataset and the citation of these Latitude and Longitudes is courtesy https://www.matthewproctor.com/australian_postcodes. Please feel free to visit in case you wanted more exposure to the way in which the data is captured."
   ]
  },
  {
   "cell_type": "code",
   "execution_count": 90,
   "id": "2806fa1e-afc7-4c15-8bb7-bd335a996973",
   "metadata": {},
   "outputs": [],
   "source": [
    "city_centres = {\n",
    "    'Sydney': (-33.8688, 151.2093),\n",
    "    'Melbourne': (-37.8136, 144.9631),\n",
    "    'Brisbane': (-27.4698, 153.0251),\n",
    "    'Perth': (-31.9505, 115.8605),\n",
    "    'Adelaide': (-34.9285, 138.6007),\n",
    "    'Canberra': (-35.2809, 149.1300),\n",
    "    'Hobart': (-42.8821, 147.3272),\n",
    "    'Darwin': (-12.4634, 130.8456)\n",
    "}"
   ]
  },
  {
   "cell_type": "markdown",
   "id": "79265c0b-fed6-49d0-8b59-bdf8315b5c62",
   "metadata": {},
   "source": [
    "### **4. Establish function to find Postcodes within 40 km of a given city**"
   ]
  },
  {
   "cell_type": "markdown",
   "id": "0661d903-9df5-4f40-ae30-ea0fce82f382",
   "metadata": {},
   "source": [
    "Note that the specific business case being tackled involved finding the postcodes within 40 km of Sydney, but you can tweak this to any city, and if required, you can tweak this to any geographic location, but we are keeping this within Australia."
   ]
  },
  {
   "cell_type": "code",
   "execution_count": 92,
   "id": "a98c8d6d-b190-4f4f-ac73-32e57272d725",
   "metadata": {},
   "outputs": [],
   "source": [
    "def postcodes_within_distance(city):\n",
    "    if city not in city_centres:\n",
    "        raise ValueError(\"Invalid city.\")\n",
    "    centre = city_centres[city]\n",
    "    df['distance_km'] = df.apply(lambda row: geodesic(centre, (row['lat'], row['long'])).km, axis=1)\n",
    "    result = df[df['distance_km'] <= 40].sort_values('distance_km') # Change the 'distance_km' as required in your business case.\n",
    "\n",
    "    # Save to CSV\n",
    "    result.to_csv(f\"postcodes_within_40km_{city}.csv\", index=False)\n",
    "    print(f\"Exported to postcodes_within_40km_{city}.csv\")\n",
    "\n",
    "    return result"
   ]
  },
  {
   "cell_type": "markdown",
   "id": "38a10b61-8c11-4631-98b8-e90204f14a4c",
   "metadata": {},
   "source": [
    "### **5. Pick the Australian City of Interest**"
   ]
  },
  {
   "cell_type": "markdown",
   "id": "19edef2b-d69e-4983-94ed-237377a3e6e3",
   "metadata": {},
   "source": [
    "Upon printing below, the output is also exported into a CSV format, which you can then use for your analyses."
   ]
  },
  {
   "cell_type": "code",
   "execution_count": 94,
   "id": "71a92b50-9280-4abf-b4a4-356c2695dc6d",
   "metadata": {},
   "outputs": [
    {
     "name": "stdout",
     "output_type": "stream",
     "text": [
      "Exported to postcodes_within_40km_Sydney.csv\n"
     ]
    },
    {
     "data": {
      "text/html": [
       "<div>\n",
       "<style scoped>\n",
       "    .dataframe tbody tr th:only-of-type {\n",
       "        vertical-align: middle;\n",
       "    }\n",
       "\n",
       "    .dataframe tbody tr th {\n",
       "        vertical-align: top;\n",
       "    }\n",
       "\n",
       "    .dataframe thead th {\n",
       "        text-align: right;\n",
       "    }\n",
       "</style>\n",
       "<table border=\"1\" class=\"dataframe\">\n",
       "  <thead>\n",
       "    <tr style=\"text-align: right;\">\n",
       "      <th></th>\n",
       "      <th>postcode</th>\n",
       "      <th>locality</th>\n",
       "      <th>state</th>\n",
       "      <th>long</th>\n",
       "      <th>lat</th>\n",
       "      <th>distance_km</th>\n",
       "    </tr>\n",
       "  </thead>\n",
       "  <tbody>\n",
       "    <tr>\n",
       "      <th>6151</th>\n",
       "      <td>2891</td>\n",
       "      <td>SYDNEY GATEWAY FACILITY</td>\n",
       "      <td>NSW</td>\n",
       "      <td>151.209000</td>\n",
       "      <td>-33.868800</td>\n",
       "      <td>0.027758</td>\n",
       "    </tr>\n",
       "    <tr>\n",
       "      <th>6150</th>\n",
       "      <td>2891</td>\n",
       "      <td>INTERNATIONAL MC</td>\n",
       "      <td>NSW</td>\n",
       "      <td>151.209000</td>\n",
       "      <td>-33.868800</td>\n",
       "      <td>0.027758</td>\n",
       "    </tr>\n",
       "    <tr>\n",
       "      <th>605</th>\n",
       "      <td>1230</td>\n",
       "      <td>QUEEN VICTORIA BUILDING</td>\n",
       "      <td>NSW</td>\n",
       "      <td>151.206708</td>\n",
       "      <td>-33.871749</td>\n",
       "      <td>0.405601</td>\n",
       "    </tr>\n",
       "    <tr>\n",
       "      <th>604</th>\n",
       "      <td>1229</td>\n",
       "      <td>QUEEN VICTORIA BUILDING</td>\n",
       "      <td>NSW</td>\n",
       "      <td>151.206708</td>\n",
       "      <td>-33.871749</td>\n",
       "      <td>0.405601</td>\n",
       "    </tr>\n",
       "    <tr>\n",
       "      <th>603</th>\n",
       "      <td>1228</td>\n",
       "      <td>QUEEN VICTORIA BUILDING</td>\n",
       "      <td>NSW</td>\n",
       "      <td>151.206708</td>\n",
       "      <td>-33.871749</td>\n",
       "      <td>0.405601</td>\n",
       "    </tr>\n",
       "    <tr>\n",
       "      <th>...</th>\n",
       "      <td>...</td>\n",
       "      <td>...</td>\n",
       "      <td>...</td>\n",
       "      <td>...</td>\n",
       "      <td>...</td>\n",
       "      <td>...</td>\n",
       "    </tr>\n",
       "    <tr>\n",
       "      <th>5310</th>\n",
       "      <td>2765</td>\n",
       "      <td>BOX HILL</td>\n",
       "      <td>NSW</td>\n",
       "      <td>150.860258</td>\n",
       "      <td>-33.663002</td>\n",
       "      <td>39.579881</td>\n",
       "    </tr>\n",
       "    <tr>\n",
       "      <th>5309</th>\n",
       "      <td>2765</td>\n",
       "      <td>BERKSHIRE PARK</td>\n",
       "      <td>NSW</td>\n",
       "      <td>150.860258</td>\n",
       "      <td>-33.663002</td>\n",
       "      <td>39.579881</td>\n",
       "    </tr>\n",
       "    <tr>\n",
       "      <th>920</th>\n",
       "      <td>2083</td>\n",
       "      <td>CHEERO POINT</td>\n",
       "      <td>NSW</td>\n",
       "      <td>151.192044</td>\n",
       "      <td>-33.510467</td>\n",
       "      <td>39.777306</td>\n",
       "    </tr>\n",
       "    <tr>\n",
       "      <th>5287</th>\n",
       "      <td>2759</td>\n",
       "      <td>ERSKINE PARK</td>\n",
       "      <td>NSW</td>\n",
       "      <td>150.781767</td>\n",
       "      <td>-33.822520</td>\n",
       "      <td>39.900397</td>\n",
       "    </tr>\n",
       "    <tr>\n",
       "      <th>5288</th>\n",
       "      <td>2759</td>\n",
       "      <td>ST CLAIR</td>\n",
       "      <td>NSW</td>\n",
       "      <td>150.781767</td>\n",
       "      <td>-33.822520</td>\n",
       "      <td>39.900397</td>\n",
       "    </tr>\n",
       "  </tbody>\n",
       "</table>\n",
       "<p>987 rows × 6 columns</p>\n",
       "</div>"
      ],
      "text/plain": [
       "      postcode                 locality state        long        lat  \\\n",
       "6151      2891  SYDNEY GATEWAY FACILITY   NSW  151.209000 -33.868800   \n",
       "6150      2891         INTERNATIONAL MC   NSW  151.209000 -33.868800   \n",
       "605       1230  QUEEN VICTORIA BUILDING   NSW  151.206708 -33.871749   \n",
       "604       1229  QUEEN VICTORIA BUILDING   NSW  151.206708 -33.871749   \n",
       "603       1228  QUEEN VICTORIA BUILDING   NSW  151.206708 -33.871749   \n",
       "...        ...                      ...   ...         ...        ...   \n",
       "5310      2765                 BOX HILL   NSW  150.860258 -33.663002   \n",
       "5309      2765           BERKSHIRE PARK   NSW  150.860258 -33.663002   \n",
       "920       2083             CHEERO POINT   NSW  151.192044 -33.510467   \n",
       "5287      2759             ERSKINE PARK   NSW  150.781767 -33.822520   \n",
       "5288      2759                 ST CLAIR   NSW  150.781767 -33.822520   \n",
       "\n",
       "      distance_km  \n",
       "6151     0.027758  \n",
       "6150     0.027758  \n",
       "605      0.405601  \n",
       "604      0.405601  \n",
       "603      0.405601  \n",
       "...           ...  \n",
       "5310    39.579881  \n",
       "5309    39.579881  \n",
       "920     39.777306  \n",
       "5287    39.900397  \n",
       "5288    39.900397  \n",
       "\n",
       "[987 rows x 6 columns]"
      ]
     },
     "execution_count": 94,
     "metadata": {},
     "output_type": "execute_result"
    }
   ],
   "source": [
    "postcodes_within_distance(\"Sydney\")"
   ]
  },
  {
   "cell_type": "markdown",
   "id": "bc7632cd-d8d6-41af-adb2-83663626c9c0",
   "metadata": {},
   "source": [
    "An additional perk is that you can see the exact distance as well, as you try and validate the distance. Moreover, it does not factor in the actual travel time. For example Cheero Point in NSW is actually 53 km from Sydney CBD when we take this by road. However this tool only factors the straight-line path (i.e. **as the crow flies**)."
   ]
  }
 ],
 "metadata": {
  "kernelspec": {
   "display_name": "Python 3 (ipykernel)",
   "language": "python",
   "name": "python3"
  },
  "language_info": {
   "codemirror_mode": {
    "name": "ipython",
    "version": 3
   },
   "file_extension": ".py",
   "mimetype": "text/x-python",
   "name": "python",
   "nbconvert_exporter": "python",
   "pygments_lexer": "ipython3",
   "version": "3.12.4"
  }
 },
 "nbformat": 4,
 "nbformat_minor": 5
}
