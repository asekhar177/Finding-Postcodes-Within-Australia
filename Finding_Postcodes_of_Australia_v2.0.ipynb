{
 "cells": [
  {
   "cell_type": "markdown",
   "id": "c22f602d-06c1-4fc8-a671-c0bec8851c66",
   "metadata": {},
   "source": [
    "## Finding Postcodes of Australia"
   ]
  },
  {
   "cell_type": "markdown",
   "id": "0eaec5a3-1176-4a83-baf4-2c19d86e6631",
   "metadata": {},
   "source": [
    "If you ever struggle to find postcodes within striking distance of where you are, here is a simple tool everyone can use in order to locate geographically where any postcode is. Note that some of thes reflect Australia Post Boxes (what they call as 'PO Box'), so even they have been captured here as well."
   ]
  },
  {
   "cell_type": "markdown",
   "id": "2fb564bf-fe9e-4a22-9332-908811d2bd6f",
   "metadata": {},
   "source": [
    "### **1. Import Packages**"
   ]
  },
  {
   "cell_type": "markdown",
   "id": "a0abb69e-4028-4f7c-97d0-87048d688ec8",
   "metadata": {},
   "source": [
    "The main packages you need for this exercise are *pandas* and *geopy*. If you do find other useful packages to uplift this, please advise."
   ]
  },
  {
   "cell_type": "code",
   "execution_count": 1,
   "id": "205572d0-87ae-4486-8313-246294687d85",
   "metadata": {},
   "outputs": [],
   "source": [
    "import pandas as pd\n",
    "from geopy.distance import geodesic"
   ]
  },
  {
   "cell_type": "markdown",
   "id": "b4ea111d-c284-4a22-a99a-f8cf29119758",
   "metadata": {},
   "source": [
    "### **2. Load Postcode dataset**"
   ]
  },
  {
   "cell_type": "markdown",
   "id": "c5725dc6-e912-407f-800a-212e92ecd4f1",
   "metadata": {},
   "source": [
    "Included is a dataset with all of the Australian Postcodes with the Locality Name, State, Longitude and Latitude (the latters have been abbreviated as 'long' and 'lat' respectively). Please note that this is an exhaustive list of postcodes in Australia that have existed since 1967, which was also when Postcodes were introduced in Australia. "
   ]
  },
  {
   "cell_type": "code",
   "execution_count": 16,
   "id": "a244ceea-d2d2-4c0e-bcc1-13ede01dd578",
   "metadata": {},
   "outputs": [
    {
     "name": "stdout",
     "output_type": "stream",
     "text": [
      "       postcode      locality state        lat        long\n",
      "0          1001        SYDNEY   NSW -33.869844  151.208285\n",
      "1          1002        SYDNEY   NSW -33.869844  151.208285\n",
      "2          1003        SYDNEY   NSW -33.869844  151.208285\n",
      "3          1004        SYDNEY   NSW -33.869844  151.208285\n",
      "4          1005        SYDNEY   NSW -33.869844  151.208285\n",
      "...         ...           ...   ...        ...         ...\n",
      "18511      6989    MADDINGTON    WA -32.062357  116.006461\n",
      "18512      6990      GOSNELLS    WA -32.064297  116.008762\n",
      "18513      6991     KELMSCOTT    WA -32.116402  116.016306\n",
      "18514      6992      ARMADALE    WA -32.150885  115.942055\n",
      "18515      6997  KELMSCOTT DC    WA        NaN         NaN\n",
      "\n",
      "[18516 rows x 5 columns]\n"
     ]
    }
   ],
   "source": [
    "df = pd.read_csv('australian_postcodes_latlon.csv')\n",
    "print(df)"
   ]
  },
  {
   "cell_type": "markdown",
   "id": "90d703e9-1248-4971-8b31-bd11d047c24b",
   "metadata": {},
   "source": [
    "### **3. Identify the Latitude and Longitude of the Australian City Centres**"
   ]
  },
  {
   "cell_type": "markdown",
   "id": "b98a4ddc-d941-45d2-bed8-78b1391a5956",
   "metadata": {},
   "source": [
    "The dataset and the citation of these Latitude and Longitudes is courtesy https://www.matthewproctor.com/australian_postcodes. Please feel free to visit in case you wanted more exposure to the way in which the data is captured."
   ]
  },
  {
   "cell_type": "markdown",
   "id": "79265c0b-fed6-49d0-8b59-bdf8315b5c62",
   "metadata": {},
   "source": [
    "### **4. Establish function to find Postcodes within any distance of a given city**"
   ]
  },
  {
   "cell_type": "markdown",
   "id": "0661d903-9df5-4f40-ae30-ea0fce82f382",
   "metadata": {},
   "source": [
    "Note that the specific business case being tackled involved finding the postcodes within 40 km of Sydney and Melbourne CBDs. You can however tweak this to any city, and if required, tweak this to any geographic location (remember that we are keeping this within Australia)."
   ]
  },
  {
   "cell_type": "code",
   "execution_count": 18,
   "id": "a98c8d6d-b190-4f4f-ac73-32e57272d725",
   "metadata": {},
   "outputs": [],
   "source": [
    "def postcodes_within_distance(city, max_distance_km, save_to_csv=True):\n",
    "    \"\"\"\n",
    "    Filters all Australian postcodes within a certain distance (in km) of a major city.\n",
    "\n",
    "    Parameters:\n",
    "        city (str): The reference city (e.g., \"Melbourne\", \"Sydney\").\n",
    "        max_distance_km (float): The radius in kilometers (e.g., 40, 100, 200).\n",
    "        save_to_csv (bool): Whether to export the result as a CSV.\n",
    "\n",
    "    Returns:\n",
    "        pd.DataFrame: Postcodes within the specified radius.\n",
    "    \"\"\"\n",
    "\n",
    "    # Normalize city input\n",
    "    city = city.strip().title()\n",
    "\n",
    "    # Coordinates for major cities\n",
    "    city_centres = {\n",
    "        \"Sydney\": (-33.8688, 151.2093),\n",
    "        \"Melbourne\": (-37.8136, 144.9631),\n",
    "        \"Brisbane\": (-27.4698, 153.0251),\n",
    "        \"Perth\": (-31.9505, 115.8605),\n",
    "        \"Adelaide\": (-34.9285, 138.6007),\n",
    "        \"Canberra\": (-35.2809, 149.1300),\n",
    "        # Add more cities as needed\n",
    "    }\n",
    "\n",
    "    if city not in city_centres:\n",
    "        raise ValueError(f\"Invalid city '{city}'. Available cities: {', '.join(city_centres.keys())}\")\n",
    "\n",
    "    centre = city_centres[city]\n",
    "\n",
    "    # Pre-filter using bounding box\n",
    "    lat_c, lon_c = centre\n",
    "    deg_buffer = max_distance_km / 111  # Approximate degree per km\n",
    "\n",
    "    filtered_df = df[\n",
    "        (df['lat'] >= lat_c - deg_buffer) & (df['lat'] <= lat_c + deg_buffer) &\n",
    "        (df['long'] >= lon_c - deg_buffer) & (df['long'] <= lon_c + deg_buffer)\n",
    "    ].copy()\n",
    "\n",
    "    # Compute distance\n",
    "    filtered_df['distance_km'] = filtered_df.apply(\n",
    "        lambda row: geodesic(centre, (row['lat'], row['long'])).km, axis=1\n",
    "    )\n",
    "\n",
    "    result = filtered_df[filtered_df['distance_km'] <= max_distance_km].sort_values('distance_km')\n",
    "\n",
    "    # Export to CSV\n",
    "    if save_to_csv:\n",
    "        filename = f\"postcodes_within_{int(max_distance_km)}km_{city.lower()}.csv\"\n",
    "        result.to_csv(filename, index=False)\n",
    "        print(f\"✅ Exported {len(result)} rows to '{filename}'\")\n",
    "\n",
    "    return result"
   ]
  },
  {
   "cell_type": "markdown",
   "id": "38a10b61-8c11-4631-98b8-e90204f14a4c",
   "metadata": {},
   "source": [
    "### **5. Pick the Australian City of Interest**"
   ]
  },
  {
   "cell_type": "markdown",
   "id": "19edef2b-d69e-4983-94ed-237377a3e6e3",
   "metadata": {},
   "source": [
    "Upon printing below, the output is also exported into a CSV format, which you can then use for your analyses."
   ]
  },
  {
   "cell_type": "code",
   "execution_count": 20,
   "id": "71a92b50-9280-4abf-b4a4-356c2695dc6d",
   "metadata": {},
   "outputs": [
    {
     "name": "stdout",
     "output_type": "stream",
     "text": [
      "✅ Exported 924 rows to 'postcodes_within_40km_sydney.csv'\n"
     ]
    },
    {
     "data": {
      "text/html": [
       "<div>\n",
       "<style scoped>\n",
       "    .dataframe tbody tr th:only-of-type {\n",
       "        vertical-align: middle;\n",
       "    }\n",
       "\n",
       "    .dataframe tbody tr th {\n",
       "        vertical-align: top;\n",
       "    }\n",
       "\n",
       "    .dataframe thead th {\n",
       "        text-align: right;\n",
       "    }\n",
       "</style>\n",
       "<table border=\"1\" class=\"dataframe\">\n",
       "  <thead>\n",
       "    <tr style=\"text-align: right;\">\n",
       "      <th></th>\n",
       "      <th>postcode</th>\n",
       "      <th>locality</th>\n",
       "      <th>state</th>\n",
       "      <th>lat</th>\n",
       "      <th>long</th>\n",
       "      <th>distance_km</th>\n",
       "    </tr>\n",
       "  </thead>\n",
       "  <tbody>\n",
       "    <tr>\n",
       "      <th>0</th>\n",
       "      <td>1001</td>\n",
       "      <td>SYDNEY</td>\n",
       "      <td>NSW</td>\n",
       "      <td>-33.869844</td>\n",
       "      <td>151.208285</td>\n",
       "      <td>0.149099</td>\n",
       "    </tr>\n",
       "    <tr>\n",
       "      <th>95</th>\n",
       "      <td>1163</td>\n",
       "      <td>SYDNEY</td>\n",
       "      <td>NSW</td>\n",
       "      <td>-33.869844</td>\n",
       "      <td>151.208285</td>\n",
       "      <td>0.149099</td>\n",
       "    </tr>\n",
       "    <tr>\n",
       "      <th>96</th>\n",
       "      <td>1164</td>\n",
       "      <td>SYDNEY</td>\n",
       "      <td>NSW</td>\n",
       "      <td>-33.869844</td>\n",
       "      <td>151.208285</td>\n",
       "      <td>0.149099</td>\n",
       "    </tr>\n",
       "    <tr>\n",
       "      <th>97</th>\n",
       "      <td>1165</td>\n",
       "      <td>SYDNEY</td>\n",
       "      <td>NSW</td>\n",
       "      <td>-33.869844</td>\n",
       "      <td>151.208285</td>\n",
       "      <td>0.149099</td>\n",
       "    </tr>\n",
       "    <tr>\n",
       "      <th>99</th>\n",
       "      <td>1167</td>\n",
       "      <td>SYDNEY</td>\n",
       "      <td>NSW</td>\n",
       "      <td>-33.869844</td>\n",
       "      <td>151.208285</td>\n",
       "      <td>0.149099</td>\n",
       "    </tr>\n",
       "    <tr>\n",
       "      <th>...</th>\n",
       "      <td>...</td>\n",
       "      <td>...</td>\n",
       "      <td>...</td>\n",
       "      <td>...</td>\n",
       "      <td>...</td>\n",
       "      <td>...</td>\n",
       "    </tr>\n",
       "    <tr>\n",
       "      <th>472</th>\n",
       "      <td>2083</td>\n",
       "      <td>BAR POINT</td>\n",
       "      <td>NSW</td>\n",
       "      <td>-33.514585</td>\n",
       "      <td>151.163778</td>\n",
       "      <td>39.514439</td>\n",
       "    </tr>\n",
       "    <tr>\n",
       "      <th>704</th>\n",
       "      <td>2157</td>\n",
       "      <td>FOREST GLEN</td>\n",
       "      <td>NSW</td>\n",
       "      <td>-33.548333</td>\n",
       "      <td>151.017778</td>\n",
       "      <td>39.732415</td>\n",
       "    </tr>\n",
       "    <tr>\n",
       "      <th>474</th>\n",
       "      <td>2083</td>\n",
       "      <td>CHEERO POINT</td>\n",
       "      <td>NSW</td>\n",
       "      <td>-33.510556</td>\n",
       "      <td>151.193333</td>\n",
       "      <td>39.762889</td>\n",
       "    </tr>\n",
       "    <tr>\n",
       "      <th>1004</th>\n",
       "      <td>2257</td>\n",
       "      <td>PRETTY BEACH</td>\n",
       "      <td>NSW</td>\n",
       "      <td>-33.528308</td>\n",
       "      <td>151.347617</td>\n",
       "      <td>39.884006</td>\n",
       "    </tr>\n",
       "    <tr>\n",
       "      <th>4745</th>\n",
       "      <td>2765</td>\n",
       "      <td>VINEYARD</td>\n",
       "      <td>NSW</td>\n",
       "      <td>-33.648333</td>\n",
       "      <td>150.867778</td>\n",
       "      <td>39.988730</td>\n",
       "    </tr>\n",
       "  </tbody>\n",
       "</table>\n",
       "<p>924 rows × 6 columns</p>\n",
       "</div>"
      ],
      "text/plain": [
       "      postcode      locality state        lat        long  distance_km\n",
       "0         1001        SYDNEY   NSW -33.869844  151.208285     0.149099\n",
       "95        1163        SYDNEY   NSW -33.869844  151.208285     0.149099\n",
       "96        1164        SYDNEY   NSW -33.869844  151.208285     0.149099\n",
       "97        1165        SYDNEY   NSW -33.869844  151.208285     0.149099\n",
       "99        1167        SYDNEY   NSW -33.869844  151.208285     0.149099\n",
       "...        ...           ...   ...        ...         ...          ...\n",
       "472       2083     BAR POINT   NSW -33.514585  151.163778    39.514439\n",
       "704       2157   FOREST GLEN   NSW -33.548333  151.017778    39.732415\n",
       "474       2083  CHEERO POINT   NSW -33.510556  151.193333    39.762889\n",
       "1004      2257  PRETTY BEACH   NSW -33.528308  151.347617    39.884006\n",
       "4745      2765      VINEYARD   NSW -33.648333  150.867778    39.988730\n",
       "\n",
       "[924 rows x 6 columns]"
      ]
     },
     "execution_count": 20,
     "metadata": {},
     "output_type": "execute_result"
    }
   ],
   "source": [
    "# Get postcodes within 40km of Sydney\n",
    "postcodes_within_distance(\"Sydney\", 40)"
   ]
  },
  {
   "cell_type": "code",
   "execution_count": 22,
   "id": "abef723e-60c5-4dd4-9419-38ccb5a08fa1",
   "metadata": {},
   "outputs": [
    {
     "name": "stdout",
     "output_type": "stream",
     "text": [
      "✅ Exported 521 rows to 'postcodes_within_40km_melbourne.csv'\n"
     ]
    },
    {
     "data": {
      "text/html": [
       "<div>\n",
       "<style scoped>\n",
       "    .dataframe tbody tr th:only-of-type {\n",
       "        vertical-align: middle;\n",
       "    }\n",
       "\n",
       "    .dataframe tbody tr th {\n",
       "        vertical-align: top;\n",
       "    }\n",
       "\n",
       "    .dataframe thead th {\n",
       "        text-align: right;\n",
       "    }\n",
       "</style>\n",
       "<table border=\"1\" class=\"dataframe\">\n",
       "  <thead>\n",
       "    <tr style=\"text-align: right;\">\n",
       "      <th></th>\n",
       "      <th>postcode</th>\n",
       "      <th>locality</th>\n",
       "      <th>state</th>\n",
       "      <th>lat</th>\n",
       "      <th>long</th>\n",
       "      <th>distance_km</th>\n",
       "    </tr>\n",
       "  </thead>\n",
       "  <tbody>\n",
       "    <tr>\n",
       "      <th>6984</th>\n",
       "      <td>3000</td>\n",
       "      <td>MELBOURNE</td>\n",
       "      <td>VIC</td>\n",
       "      <td>-37.814245</td>\n",
       "      <td>144.963173</td>\n",
       "      <td>0.071924</td>\n",
       "    </tr>\n",
       "    <tr>\n",
       "      <th>10491</th>\n",
       "      <td>8001</td>\n",
       "      <td>MELBOURNE</td>\n",
       "      <td>VIC</td>\n",
       "      <td>-37.814245</td>\n",
       "      <td>144.963173</td>\n",
       "      <td>0.071924</td>\n",
       "    </tr>\n",
       "    <tr>\n",
       "      <th>10504</th>\n",
       "      <td>8051</td>\n",
       "      <td>MELBOURNE</td>\n",
       "      <td>VIC</td>\n",
       "      <td>-37.814245</td>\n",
       "      <td>144.963173</td>\n",
       "      <td>0.071924</td>\n",
       "    </tr>\n",
       "    <tr>\n",
       "      <th>10505</th>\n",
       "      <td>8066</td>\n",
       "      <td>MELBOURNE</td>\n",
       "      <td>VIC</td>\n",
       "      <td>-37.814245</td>\n",
       "      <td>144.963173</td>\n",
       "      <td>0.071924</td>\n",
       "    </tr>\n",
       "    <tr>\n",
       "      <th>10506</th>\n",
       "      <td>8069</td>\n",
       "      <td>MELBOURNE</td>\n",
       "      <td>VIC</td>\n",
       "      <td>-37.814245</td>\n",
       "      <td>144.963173</td>\n",
       "      <td>0.071924</td>\n",
       "    </tr>\n",
       "    <tr>\n",
       "      <th>...</th>\n",
       "      <td>...</td>\n",
       "      <td>...</td>\n",
       "      <td>...</td>\n",
       "      <td>...</td>\n",
       "      <td>...</td>\n",
       "      <td>...</td>\n",
       "    </tr>\n",
       "    <tr>\n",
       "      <th>7471</th>\n",
       "      <td>3200</td>\n",
       "      <td>FRANKSTON NORTH</td>\n",
       "      <td>VIC</td>\n",
       "      <td>-38.122852</td>\n",
       "      <td>145.160979</td>\n",
       "      <td>38.478379</td>\n",
       "    </tr>\n",
       "    <tr>\n",
       "      <th>10432</th>\n",
       "      <td>3977</td>\n",
       "      <td>SKYE</td>\n",
       "      <td>VIC</td>\n",
       "      <td>-38.105126</td>\n",
       "      <td>145.216233</td>\n",
       "      <td>39.267218</td>\n",
       "    </tr>\n",
       "    <tr>\n",
       "      <th>7465</th>\n",
       "      <td>3199</td>\n",
       "      <td>FRANKSTON</td>\n",
       "      <td>VIC</td>\n",
       "      <td>-38.145706</td>\n",
       "      <td>145.126374</td>\n",
       "      <td>39.555210</td>\n",
       "    </tr>\n",
       "    <tr>\n",
       "      <th>9724</th>\n",
       "      <td>3757</td>\n",
       "      <td>HUMEVALE</td>\n",
       "      <td>VIC</td>\n",
       "      <td>-37.497861</td>\n",
       "      <td>145.180228</td>\n",
       "      <td>39.939485</td>\n",
       "    </tr>\n",
       "    <tr>\n",
       "      <th>7216</th>\n",
       "      <td>3099</td>\n",
       "      <td>STRATHEWEN</td>\n",
       "      <td>VIC</td>\n",
       "      <td>-37.547874</td>\n",
       "      <td>145.269153</td>\n",
       "      <td>39.983785</td>\n",
       "    </tr>\n",
       "  </tbody>\n",
       "</table>\n",
       "<p>521 rows × 6 columns</p>\n",
       "</div>"
      ],
      "text/plain": [
       "       postcode         locality state        lat        long  distance_km\n",
       "6984       3000        MELBOURNE   VIC -37.814245  144.963173     0.071924\n",
       "10491      8001        MELBOURNE   VIC -37.814245  144.963173     0.071924\n",
       "10504      8051        MELBOURNE   VIC -37.814245  144.963173     0.071924\n",
       "10505      8066        MELBOURNE   VIC -37.814245  144.963173     0.071924\n",
       "10506      8069        MELBOURNE   VIC -37.814245  144.963173     0.071924\n",
       "...         ...              ...   ...        ...         ...          ...\n",
       "7471       3200  FRANKSTON NORTH   VIC -38.122852  145.160979    38.478379\n",
       "10432      3977             SKYE   VIC -38.105126  145.216233    39.267218\n",
       "7465       3199        FRANKSTON   VIC -38.145706  145.126374    39.555210\n",
       "9724       3757         HUMEVALE   VIC -37.497861  145.180228    39.939485\n",
       "7216       3099       STRATHEWEN   VIC -37.547874  145.269153    39.983785\n",
       "\n",
       "[521 rows x 6 columns]"
      ]
     },
     "execution_count": 22,
     "metadata": {},
     "output_type": "execute_result"
    }
   ],
   "source": [
    "# Get postcodes within 40km of Melbourne\n",
    "postcodes_within_distance(\"Melbourne\", 40)"
   ]
  },
  {
   "cell_type": "markdown",
   "id": "bc7632cd-d8d6-41af-adb2-83663626c9c0",
   "metadata": {},
   "source": [
    "An additional perk is that you can see the exact distance as well, as you try and validate the distance. Moreover, it does not factor in the actual travel time. For example Cheero Point in NSW is actually 53 km from Sydney CBD when we take this by road. However this tool only factors the straight-line path (i.e. **as the crow flies**)."
   ]
  }
 ],
 "metadata": {
  "kernelspec": {
   "display_name": "Python 3 (ipykernel)",
   "language": "python",
   "name": "python3"
  },
  "language_info": {
   "codemirror_mode": {
    "name": "ipython",
    "version": 3
   },
   "file_extension": ".py",
   "mimetype": "text/x-python",
   "name": "python",
   "nbconvert_exporter": "python",
   "pygments_lexer": "ipython3",
   "version": "3.12.4"
  }
 },
 "nbformat": 4,
 "nbformat_minor": 5
}
